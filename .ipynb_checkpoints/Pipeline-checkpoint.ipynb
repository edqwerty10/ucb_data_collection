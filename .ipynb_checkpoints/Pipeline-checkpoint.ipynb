{
 "cells": [
  {
   "cell_type": "markdown",
   "metadata": {},
   "source": [
    "## Pipeline"
   ]
  },
  {
   "cell_type": "markdown",
   "metadata": {},
   "source": [
    "### 0. Pdf to doc files parsing for city data"
   ]
  },
  {
   "cell_type": "markdown",
   "metadata": {},
   "source": [
    "### 1. Obtaining Data: PeMS Data Download\n",
    "Source file code: PeMS Download.ipynb <br>\n",
    "Download traffic data from the PEMS website (pews.dot.ca.gov) for years 2013, 2017 and 2019 <br>\n",
    "- TODO:\n",
    "Currently, we are opening a new tab in the browser to be able to download pems excel file data. One file per tab opening. We could improve this ideally by not having to open tabs and do a python code request to download all excel files at once."
   ]
  },
  {
   "cell_type": "code",
   "execution_count": 1,
   "metadata": {},
   "outputs": [],
   "source": [
    "# import pems_download as pems"
   ]
  },
  {
   "cell_type": "code",
   "execution_count": 2,
   "metadata": {},
   "outputs": [],
   "source": [
    "# pems.download(2013)\n",
    "# pems.download(2019)\n",
    "# pems.download(2017)"
   ]
  },
  {
   "cell_type": "markdown",
   "metadata": {},
   "source": [
    "### 2. Parsing Data\n",
    "Source file code: Pre-processing_flow.ipynb <br>\n",
    "### A) Parse the city data from xlsx, doc and csv files to csv files"
   ]
  },
  {
   "cell_type": "markdown",
   "metadata": {},
   "source": [
    "#### Process ADT Data files to csv files\n",
    "- Create .csv files from .xlsx files of ADT data containing counts of traffic flow for years 2013, 2017, 2019\n",
    "- The ADT data files are in folders \"year ADT Data\"\n",
    "- The csv files will be stored in the \"year processed\" folder, and the \"year_info.csv\" file will list all the processed files and their metadata (ie. File name, City, On street, Cross street)\n",
    "- TODO: create a 2017_info.csv in the same fashion as the 2013_info.csv file (look at method process2013_adt_data())"
   ]
  },
  {
   "cell_type": "code",
   "execution_count": 10,
   "metadata": {},
   "outputs": [],
   "source": [
    "import pre_process_flow as pre_process\n",
    "\n",
    "# pre_process.process2013_adt_data()\n",
    "# pre_process.process2017_adt_data()\n",
    "# pre_process.process2019_adt_data()"
   ]
  },
  {
   "cell_type": "markdown",
   "metadata": {},
   "source": [
    "#### Word doc data pre-processing\n",
    "Create .csv files from the word doc files containing count data of traffic flow"
   ]
  },
  {
   "cell_type": "code",
   "execution_count": 1,
   "metadata": {},
   "outputs": [],
   "source": [
    "# pre_process.process2017_doc_data()\n",
    "# pre_process.process2019_doc_data()"
   ]
  },
  {
   "cell_type": "markdown",
   "metadata": {},
   "source": [
    "TODO:\n",
    "- The following doc files from 2019 were not processed due to the textract package not parsing it correctly. The can be found on the 2019 error folder.\n",
    "    - DURHAM RD BT I-680 AND MISSION BLVD EB.doc\n",
    "    - MISSION BLVD BT WASHINGTON BLVD AND PINES ST SB.doc"
   ]
  },
  {
   "cell_type": "markdown",
   "metadata": {},
   "source": [
    "### B) Find the coordinates of the city detectors\n",
    "- Creates .csv files containing detector coordinates by using Google API and the year_info.csv file containing street addresses of the detectors. The output files are named year_info_coor.csv. Note that the input files year_info.csv are created in step 2: parsing data."
   ]
  },
  {
   "cell_type": "code",
   "execution_count": 12,
   "metadata": {},
   "outputs": [
    {
     "name": "stdout",
     "output_type": "stream",
     "text": [
      "File name,City,On street,Cross street\n",
      "\n",
      "['Fremont', 'Warm Springs Blvd', \"200' s/o Starlite\"]\n",
      "Warm Springs Blvd & Starlite, Fremont\n",
      "Warm Springs Blvd & Starlite, Fremont\n",
      "(37.472697, -121.9195597)\n",
      "['Fremont', 'Durham Road', 'Between Arapaho and Paseo Padre']\n",
      "Durham Road & Arapaho, Fremont\n",
      "Durham Road & Paseo Padre, Fremont\n",
      "['Arapaho', 'Paseo Padre']\n",
      "(37.514003, -121.932651)\n",
      "(37.51425649999999, -121.9311615)\n",
      "['Fremont', 'Washington Blvd', \"300' w/o Olive\"]\n",
      "Washington Blvd & Olive, Fremont\n",
      "Washington Blvd & Olive, Fremont\n",
      "(37.5335425, -121.9204218)\n",
      "['Fremont', 'Washington Blvd', \"200' w/o Gallegos\"]\n",
      "Washington Blvd & Gallegos, Fremont\n",
      "Washington Blvd & Gallegos, Fremont\n",
      "(37.5322204, -121.929816)\n",
      "['Fremont', 'Washington Blvd', \"150' w/o Palm Ave\"]\n",
      "Washington Blvd & Palm Ave, Fremont\n",
      "Washington Blvd & Palm Ave, Fremont\n",
      "(37.5318568, -121.9328451)\n",
      "['Fremont', 'Washington Blvd', \"300' e/o Olive\"]\n",
      "Washington Blvd & Olive, Fremont\n",
      "Washington Blvd & Olive, Fremont\n",
      "(37.5335425, -121.9204218)\n",
      "['Fremont', 'Mission Blvd', 'Between Grimmer and Stanford']\n",
      "Mission Blvd & Grimmer, Fremont\n",
      "Mission Blvd & Stanford, Fremont\n",
      "['Grimmer', 'Stanford']\n",
      "(37.506647, -121.9198326)\n",
      "(37.5020776, -121.9196147)\n",
      "['Fremont', 'Driscoll Road', 'Between Beatrice and Carmen']\n",
      "Driscoll Road & Beatrice, Fremont\n",
      "Driscoll Road & Carmen, Fremont\n",
      "['Beatrice', 'Carmen']\n",
      "(37.5368465, -121.952255)\n",
      "(37.537302, -121.9516551)\n",
      "['Fremont', 'Driscoll Road', 'Between Durillo and Chiltern']\n",
      "Driscoll Road & Durillo, Fremont\n",
      "Driscoll Road & Chiltern, Fremont\n",
      "['Durillo', 'Chiltern']\n",
      "(37.5434945, -121.9459868)\n",
      "(37.5450133, -121.9445304)\n",
      "['Fremont', 'Washington Blvd', \"200' e/o Castillejo \"]\n",
      "Washington Blvd & Castillejo , Fremont\n",
      "Washington Blvd & Castillejo , Fremont\n",
      "(37.5310501, -121.9408008)\n",
      "['Fremont', 'Washington Blvd', 'Between Bryant and Ellsworth']\n",
      "Washington Blvd & Bryant, Fremont\n",
      "Washington Blvd & Ellsworth, Fremont\n",
      "['Bryant', 'Ellsworth']\n",
      "(37.5315488, -121.9570943)\n",
      "(37.5332215, -121.9215127)\n",
      "['Fremont', 'Grimmer Blvd (South)', 'Between 680 and Parkmeadow']\n",
      "Grimmer Blvd (South) & 680, Fremont\n",
      "Grimmer Blvd (South) & Parkmeadow, Fremont\n",
      "['680', 'Parkmeadow']\n",
      "(37.5046393, -121.941068)\n",
      "(37.5067196, -121.9331182)\n",
      "['Fremont', 'Osgood Road', 'Between Skyway and Prune']\n",
      "Osgood Road & Skyway, Fremont\n",
      "Osgood Road & Prune, Fremont\n",
      "['Skyway', 'Prune']\n",
      "(37.51043060000001, -121.9401294)\n",
      "(37.5067399, -121.9383431)\n",
      "['Fremont', 'Paseo Padre Parkway', 'Between Concho and Indian Hill']\n",
      "Paseo Padre Parkway & Concho, Fremont\n",
      "Paseo Padre Parkway & Indian Hill, Fremont\n",
      "['Concho', 'Indian Hill']\n",
      "(37.5037393, -121.9256408)\n",
      "(37.5027868, -121.9246862)\n",
      "['Fremont', 'Paseo Padre Parkway', 'Between Blackfoot and Parkmeadow']\n",
      "Paseo Padre Parkway & Blackfoot, Fremont\n",
      "Paseo Padre Parkway & Parkmeadow, Fremont\n",
      "['Blackfoot', 'Parkmeadow']\n",
      "(37.512573, -121.9315001)\n",
      "(37.510503, -121.9306933)\n",
      "['Fremont', 'Mission Blvd', 'Between Mission Tierra and Anza']\n",
      "Mission Blvd & Mission Tierra, Fremont\n",
      "Mission Blvd & Anza, Fremont\n",
      "['Mission Tierra', 'Anza']\n",
      "(37.5322209, -121.9197829)\n",
      "(37.5304987, -121.9192988)\n",
      "['Fremont', 'Warm Springs Blvd', 'Between Warren and Shale']\n",
      "Warm Springs Blvd & Warren, Fremont\n",
      "Warm Springs Blvd & Shale, Fremont\n",
      "['Warren', 'Shale']\n",
      "(37.4871224, -121.9280083)\n",
      "(37.4881272, -121.9283937)\n",
      "['Fremont', 'Washington Blvd', \"200' w/o Gallegos\"]\n",
      "Washington Blvd & Gallegos, Fremont\n",
      "Washington Blvd & Gallegos, Fremont\n",
      "(37.5322204, -121.929816)\n",
      "['Fremont', 'Warren Avenue', 'Between Mission Falls and railroad tracks']\n",
      "Warren Avenue & Mission Falls, Fremont\n",
      "Warren Avenue & railroad tracks, Fremont\n",
      "['Mission Falls', 'railroad tracks']\n",
      "(37.4864825, -121.9296322)\n",
      "(37.4850928, -121.9333787)\n",
      "['Fremont', 'Paseo Padre Parkway', 'Between Klamath and Sundance']\n",
      "Paseo Padre Parkway & Klamath, Fremont\n",
      "Paseo Padre Parkway & Sundance, Fremont\n",
      "['Klamath', 'Sundance']\n",
      "(37.49943409999999, -121.9147896)\n",
      "(37.4983234, -121.9133652)\n",
      "['Fremont', 'Mission Blvd', 'Between Hunter and Pilgrim Loop']\n",
      "Mission Blvd & Hunter, Fremont\n",
      "Mission Blvd & Pilgrim Loop, Fremont\n",
      "['Hunter', 'Pilgrim Loop']\n",
      "(37.520762, -121.9177953)\n",
      "(37.5223886, -121.9179312)\n",
      "['Fremont', 'Paseo Padre Parkway', 'Between Vista Del Mar and Pine']\n",
      "Paseo Padre Parkway & Vista Del Mar, Fremont\n",
      "Paseo Padre Parkway & Pine, Fremont\n",
      "['Vista Del Mar', 'Pine']\n",
      "(37.5263331, -121.9294608)\n",
      "(37.5237829, -121.9286581)\n",
      "['Fremont', 'Grimmer Blvd (South)', \"400' w/o Old Warm Springs\"]\n",
      "Grimmer Blvd (South) & Old Warm Springs, Fremont\n",
      "Grimmer Blvd (South) & Old Warm Springs, Fremont\n",
      "(37.5040353, -121.9431747)\n",
      "['Fremont', 'Osgood Road', \"300' n/o Blacow\"]\n",
      "Osgood Road & Blacow, Fremont\n",
      "Osgood Road & Blacow, Fremont\n",
      "(37.525639, -121.9496508)\n",
      "['Fremont', 'Warren Avenue', 'Between Bradley and Fernald']\n",
      "Warren Avenue & Bradley, Fremont\n",
      "Warren Avenue & Fernald, Fremont\n",
      "['Bradley', 'Fernald']\n",
      "(37.4892478, -121.9218397)\n",
      "(37.4884473, -121.9241937)\n",
      "['Fremont', 'Warm Springs Blvd', \"200' n/o Brown\"]\n",
      "Warm Springs Blvd & Brown, Fremont\n",
      "Warm Springs Blvd & Brown, Fremont\n",
      "(37.4823046, -121.9245444)\n",
      "['Fremont', 'Washington Blvd', 'Between Union and Roberts']\n",
      "Washington Blvd & Union, Fremont\n",
      "Washington Blvd & Roberts, Fremont\n",
      "['Union', 'Roberts']\n",
      "(37.531549, -121.957094)\n",
      "(37.5327342, -121.956582)\n",
      "['Fremont', 'Mission Blvd', 'Between Warm Springs and Mohave']\n",
      "Mission Blvd & Warm Springs, Fremont\n",
      "Mission Blvd & Mohave, Fremont\n",
      "['Warm Springs', 'Mohave']\n",
      "(37.4900145, -121.9296492)\n",
      "(37.49210300000001, -121.9268566)\n",
      "['Fremont', 'Mission Blvd', \"200' s/o Mill Creek\"]\n",
      "Mission Blvd & Mill Creek, Fremont\n",
      "Mission Blvd & Mill Creek, Fremont\n",
      "(37.537602, -121.9221956)\n",
      "['Fremont', 'Mission Blvd', 'Between Mission Ridge and Callery']\n",
      "Mission Blvd & Mission Ridge, Fremont\n",
      "Mission Blvd & Callery, Fremont\n",
      "['Mission Ridge', 'Callery']\n",
      "(37.5466413, -121.9343148)\n",
      "(37.5470646, -121.9350148)\n",
      "['Fremont', 'Washington Blvd', \"100' e/o Ellsworth\"]\n",
      "Washington Blvd & Ellsworth, Fremont\n",
      "Washington Blvd & Ellsworth, Fremont\n",
      "(37.5332215, -121.9215127)\n",
      "['Fremont', 'Auto Mall Parkway', 'Between Fremont and Osgood']\n",
      "Auto Mall Parkway & Fremont, Fremont\n",
      "Auto Mall Parkway & Osgood, Fremont\n",
      "['Fremont', 'Osgood']\n",
      "(37.5076894, -121.9665398)\n",
      "(37.5139048, -121.9426157)\n"
     ]
    }
   ],
   "source": [
    "# pre_process.get_geo_data2013()\n",
    "# pre_process.get_geo_data2017()"
   ]
  },
  {
   "cell_type": "markdown",
   "metadata": {},
   "source": [
    "### C) Check and adjust the locations of the (City + PeMS) detectors to our network using ArcGIS <br>\n",
    "Done in the software manually in ArcGIS"
   ]
  },
  {
   "cell_type": "markdown",
   "metadata": {},
   "source": [
    "### 3. Process Data"
   ]
  },
  {
   "cell_type": "code",
   "execution_count": 5,
   "metadata": {},
   "outputs": [],
   "source": [
    "import process_flow as pf"
   ]
  },
  {
   "cell_type": "markdown",
   "metadata": {},
   "source": [
    "### A) Process the csv files (city + caltrans) to one big file. <br>\n",
    "source code: processing flow to one CSV.ipynb <br>\n",
    "\n",
    "#### To run this code the expected directory hierarchy of the input files is:\n",
    ".../City/year reformat <br>\n",
    ".../PeMS/PeMS_year <br>\n",
    "- where the \"year reformat\" folder contains the .csv files from the \"year processed\" folder according to the year. Additionally, 2017 and 2019 yaer reformat folders have child folders \"Format from pdf\" and \"Format from xlsx\", this way we can differendiate between file formats for for parsing. <br>\n",
    "    \n",
    "- where the \"PeMS_year\" folder contains .xlsx files downloaded from the PEMS website (pews.dot.ca.gov) per year <br>"
   ]
  },
  {
   "cell_type": "code",
   "execution_count": 13,
   "metadata": {},
   "outputs": [],
   "source": [
    "# pf.process_data()"
   ]
  },
  {
   "cell_type": "markdown",
   "metadata": {},
   "source": [
    "### B) Create file that gives traffic flows for specific road sections for every year. <br>\n",
    "source note: put years together.ipynb\n",
    "\n",
    "- Use detectors (lines_to_detectors.csv) and flow processed city (flow_processed_city.csv) data to create all years flow data in \"flow_processed_section.csv\"\n",
    "- Note that the erroneous files are still being skipped, they are: ['DurhamRd I680 MissionBlv EB', 'Mission blvd Pine Washington SB']"
   ]
  },
  {
   "cell_type": "code",
   "execution_count": null,
   "metadata": {},
   "outputs": [],
   "source": [
    "import process_years_together as pytogether\n",
    "\n",
    "line_to_detectors = 'lines_to_detectors.csv'\n",
    "flow_processed_city = 'Flow_processed_city.csv'\n",
    "pytogether.run(line_to_detectors, flow_processed_city)"
   ]
  },
  {
   "cell_type": "markdown",
   "metadata": {},
   "source": [
    "### 4. Data Analysis"
   ]
  },
  {
   "cell_type": "markdown",
   "metadata": {},
   "source": [
    "A) PCA"
   ]
  },
  {
   "cell_type": "markdown",
   "metadata": {},
   "source": [
    "B) Analyse PCA results using heatmap inside ArcGIS"
   ]
  },
  {
   "cell_type": "code",
   "execution_count": null,
   "metadata": {},
   "outputs": [],
   "source": []
  },
  {
   "cell_type": "code",
   "execution_count": null,
   "metadata": {},
   "outputs": [],
   "source": []
  },
  {
   "cell_type": "code",
   "execution_count": null,
   "metadata": {},
   "outputs": [],
   "source": []
  }
 ],
 "metadata": {
  "kernelspec": {
   "display_name": "Python 3",
   "language": "python",
   "name": "python3"
  },
  "language_info": {
   "codemirror_mode": {
    "name": "ipython",
    "version": 3
   },
   "file_extension": ".py",
   "mimetype": "text/x-python",
   "name": "python",
   "nbconvert_exporter": "python",
   "pygments_lexer": "ipython3",
   "version": "3.7.4"
  }
 },
 "nbformat": 4,
 "nbformat_minor": 2
}
