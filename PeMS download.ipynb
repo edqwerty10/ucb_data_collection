{
 "cells": [
  {
   "cell_type": "code",
   "execution_count": 1,
   "metadata": {},
   "outputs": [],
   "source": [
    "import os\n",
    "import webbrowser\n",
    "import time\n",
    "import pandas as pd\n",
    "import numpy as np\n",
    "import requests"
   ]
  },
  {
   "cell_type": "markdown",
   "metadata": {},
   "source": [
    "## Download PeMS files"
   ]
  },
  {
   "cell_type": "code",
   "execution_count": 3,
   "metadata": {},
   "outputs": [],
   "source": [
    "Station_IDS = [403250, 403256, 403255, 403257, 418387, 418388, 400376, 413981, 413980, 413982, 402794, 413983, 413984, 413985, 413987, 413986, 402796, 413988, 402799, 403251, 403710, 403254, 403719, 400566, 418420, 418419, 418422, 418423, 402793, 403226, 414015, 414016, 402795, 402797, 414011, 402798]\n"
   ]
  },
  {
   "cell_type": "code",
   "execution_count": 5,
   "metadata": {},
   "outputs": [
    {
     "ename": "OSError",
     "evalue": "[Errno 2] No such file or directory",
     "output_type": "error",
     "traceback": [
      "\u001b[0;31m---------------------------------------------------------------------------\u001b[0m",
      "\u001b[0;31mOSError\u001b[0m                                   Traceback (most recent call last)",
      "\u001b[0;32m<ipython-input-5-31ab66538541>\u001b[0m in \u001b[0;36m<module>\u001b[0;34m()\u001b[0m\n\u001b[1;32m     72\u001b[0m         \u001b[0mtime\u001b[0m\u001b[0;34m.\u001b[0m\u001b[0msleep\u001b[0m\u001b[0;34m(\u001b[0m\u001b[0;36m10\u001b[0m\u001b[0;34m)\u001b[0m\u001b[0;34m\u001b[0m\u001b[0m\n\u001b[1;32m     73\u001b[0m         \u001b[0mos\u001b[0m\u001b[0;34m.\u001b[0m\u001b[0mrename\u001b[0m\u001b[0;34m(\u001b[0m\u001b[0;34mr'pems_output.xlsx'\u001b[0m\u001b[0;34m,\u001b[0m \u001b[0;34mr''\u001b[0m \u001b[0;34m+\u001b[0m \u001b[0mstr\u001b[0m\u001b[0;34m(\u001b[0m\u001b[0mi\u001b[0m\u001b[0;34m)\u001b[0m \u001b[0;34m+\u001b[0m \u001b[0;34m\"_\"\u001b[0m \u001b[0;34m+\u001b[0m \u001b[0mstr\u001b[0m\u001b[0;34m(\u001b[0m\u001b[0myear\u001b[0m\u001b[0;34m)\u001b[0m \u001b[0;34m+\u001b[0m \u001b[0;34m\".xlsx\"\u001b[0m\u001b[0;34m)\u001b[0m\u001b[0;34m\u001b[0m\u001b[0m\n\u001b[0;32m---> 74\u001b[0;31m \u001b[0mdownload\u001b[0m\u001b[0;34m(\u001b[0m\u001b[0;36m2017\u001b[0m\u001b[0;34m)\u001b[0m\u001b[0;34m\u001b[0m\u001b[0m\n\u001b[0m",
      "\u001b[0;32m<ipython-input-5-31ab66538541>\u001b[0m in \u001b[0;36mdownload\u001b[0;34m(year)\u001b[0m\n\u001b[1;32m     71\u001b[0m         \u001b[0mwebbrowser\u001b[0m\u001b[0;34m.\u001b[0m\u001b[0mopen\u001b[0m\u001b[0;34m(\u001b[0m\u001b[0murl\u001b[0m\u001b[0;34m,\u001b[0m \u001b[0mnew\u001b[0m\u001b[0;34m=\u001b[0m\u001b[0;36m2\u001b[0m\u001b[0;34m)\u001b[0m\u001b[0;34m\u001b[0m\u001b[0m\n\u001b[1;32m     72\u001b[0m         \u001b[0mtime\u001b[0m\u001b[0;34m.\u001b[0m\u001b[0msleep\u001b[0m\u001b[0;34m(\u001b[0m\u001b[0;36m10\u001b[0m\u001b[0;34m)\u001b[0m\u001b[0;34m\u001b[0m\u001b[0m\n\u001b[0;32m---> 73\u001b[0;31m         \u001b[0mos\u001b[0m\u001b[0;34m.\u001b[0m\u001b[0mrename\u001b[0m\u001b[0;34m(\u001b[0m\u001b[0;34mr'pems_output.xlsx'\u001b[0m\u001b[0;34m,\u001b[0m \u001b[0;34mr''\u001b[0m \u001b[0;34m+\u001b[0m \u001b[0mstr\u001b[0m\u001b[0;34m(\u001b[0m\u001b[0mi\u001b[0m\u001b[0;34m)\u001b[0m \u001b[0;34m+\u001b[0m \u001b[0;34m\"_\"\u001b[0m \u001b[0;34m+\u001b[0m \u001b[0mstr\u001b[0m\u001b[0;34m(\u001b[0m\u001b[0myear\u001b[0m\u001b[0;34m)\u001b[0m \u001b[0;34m+\u001b[0m \u001b[0;34m\".xlsx\"\u001b[0m\u001b[0;34m)\u001b[0m\u001b[0;34m\u001b[0m\u001b[0m\n\u001b[0m\u001b[1;32m     74\u001b[0m \u001b[0mdownload\u001b[0m\u001b[0;34m(\u001b[0m\u001b[0;36m2017\u001b[0m\u001b[0;34m)\u001b[0m\u001b[0;34m\u001b[0m\u001b[0m\n",
      "\u001b[0;31mOSError\u001b[0m: [Errno 2] No such file or directory"
     ]
    }
   ],
   "source": [
    "def time_for_year(year):\n",
    "    if year == 2013:\n",
    "        url_addon = \"&s_time_id=1362441600\"\n",
    "        url_addon = url_addon + \"&s_time_id_f=\" + \"03\" + \"%2F\" + \"05\" + \"%2F\" + \"2013\" + \"+00%3A00\"\n",
    "        url_addon = url_addon + \"&e_time_id=1362700740\"\n",
    "        url_addon = url_addon + \"&e_time_id_f=\" + \"03\" + \"%2F\" + \"07\" + \"%2F\" + \"2013\" + \"+23%3A59\"\n",
    "    if year == 2017:\n",
    "        url_addon = \"&s_time_id=1488844800\"\n",
    "        url_addon = url_addon + \"&s_time_id_f=\" + \"03\" + \"%2F\" + \"07\" + \"%2F\" + \"2017\" + \"+00%3A00\"\n",
    "        url_addon = url_addon + \"&e_time_id=1489103940\"\n",
    "        url_addon = url_addon + \"&e_time_id_f=\" + \"03\" + \"%2F\" + \"09\" + \"%2F\" + \"2017\" + \"+23%3A59\"\n",
    "    if year == 2019:\n",
    "        url_addon = \"&s_time_id=1551744000\"\n",
    "        url_addon = url_addon + \"&s_time_id_f=\" + \"03\" + \"%2F\" + \"05\" + \"%2F\" + \"2019\" + \"+00%3A00\"\n",
    "        url_addon = url_addon + \"&e_time_id=1552003140\"\n",
    "        url_addon = url_addon + \"&e_time_id_f=\" + \"03\" + \"%2F\" + \"07\" + \"%2F\" + \"2019\" + \"+23%3A59\"\n",
    "    return url_addon\n",
    "\n",
    "# &s_time_id=1362441600\n",
    "# &s_time_id_f=03%2F05%2F2013+00%3A00\n",
    "# &e_time_id=1362700740\n",
    "# &e_time_id_f=03%2F07%2F2013+23%3A59\n",
    "    \n",
    "\n",
    "# &s_time_id=1488844800\n",
    "# &s_time_id_f=03%2F07%2F2017+00%3A00\n",
    "# &e_time_id=1489103940\n",
    "# &e_time_id_f=03%2F09%2F2017+23%3A59\n",
    "    \n",
    "\n",
    "# s_time_id=1551744000\n",
    "# &s_time_id_f=03%2F05%2F2019+00%3A00\n",
    "# &e_time_id=1552003140\n",
    "# &e_time_id_f=03%2F07%2F2019+23%3A59\n",
    "\n",
    "\n",
    "def download(year):\n",
    "    for i in Station_IDS:\n",
    "\n",
    "        url = 'http://pems.dot.ca.gov/?report_form=1'\n",
    "        url = url + \"&dnode=VDS\"\n",
    "        url = url + \"&content=loops\"\n",
    "\n",
    "        url = url + \"&tab=det_timeseries\"\n",
    "        url = url + \"&export=xls\"\n",
    "\n",
    "        url = url + \"&station_id=\" + str(i)\n",
    "\n",
    "        url = url + time_for_year(year)\n",
    "\n",
    "        url = url + \"&tod=all\"\n",
    "        url = url + \"&tod_from=0\"\n",
    "        url = url + \"&tod_to=0\"\n",
    "        url = url + \"&dow_0=on\"\n",
    "        url = url + \"&dow_1=on\"\n",
    "        url = url + \"&dow_2=on\"\n",
    "        url = url + \"&dow_3=on\"\n",
    "        url = url + \"&dow_4=on\"\n",
    "        url = url + \"&dow_5=on\"\n",
    "        url = url + \"&dow_6=on\"\n",
    "        url = url + \"&holidays=on\"\n",
    "        url = url + \"&q=flow\"\n",
    "        url = url + \"&q2=\"\n",
    "        url = url + \"&gn=5min\"\n",
    "        url = url + \"&agg=on\"\n",
    "        url = url + \"&lane1=on\"\n",
    "        url = url + \"&lane2=on\"\n",
    "        url = url + \"lane3=on\"\n",
    "\n",
    "    #     print(url)\n",
    "        webbrowser.open(url, new=2)\n",
    "        time.sleep(10)\n",
    "        os.rename(r'pems_output.xlsx', r'' + str(i) + \"_\" + str(year) + \".xlsx\")\n",
    "download(2017)"
   ]
  },
  {
   "cell_type": "code",
   "execution_count": null,
   "metadata": {},
   "outputs": [],
   "source": []
  }
 ],
 "metadata": {
  "kernelspec": {
   "display_name": "Python 3",
   "language": "python",
   "name": "python3"
  },
  "language_info": {
   "codemirror_mode": {
    "name": "ipython",
    "version": 3
   },
   "file_extension": ".py",
   "mimetype": "text/x-python",
   "name": "python",
   "nbconvert_exporter": "python",
   "pygments_lexer": "ipython3",
   "version": "3.7.4"
  }
 },
 "nbformat": 4,
 "nbformat_minor": 2
}
